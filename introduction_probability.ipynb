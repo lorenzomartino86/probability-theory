{
 "cells": [
  {
   "cell_type": "markdown",
   "metadata": {},
   "source": [
    "# Introduction to probability"
   ]
  },
  {
   "cell_type": "markdown",
   "metadata": {},
   "source": [
    "Of the entire population, 3% has a certain disease X. A new drug company has a test Y which indicates whether or not a person has the disease but it is not 100% accurate. Unfortunately, test Y is painful to administer. You have to determine if this company should market this test.\n",
    "If a person has disease X, there is a 1% chance that it will go undetected by Y test. However, there is also a 10% chance of a *false alarm*. If Adam takes a test Y which returns positive, what is the probability of Adam having the desease in reality?"
   ]
  },
  {
   "cell_type": "markdown",
   "metadata": {},
   "source": [
    "P(X) = 0.03\n",
    "P(not(Y) | X) = 0.01\n",
    "P(Y | not(X)) = 0.1\n",
    "\n",
    "P(Y | X) = 1 - P(not(Y) | X) = 1 - 0.01 = 0.99\n",
    "P(Y) = P(Y | X) * P(X) + P(Y | not(X)) * P(not(X)) = 0.99 * 0.03 + 0.1 * 0.97 = 0.1267\n",
    "\n",
    "P(X | Y) = P(Y | X) * P(X) / P(Y) = 0.99 * 0.03 / 0.1267 = 0.234\n",
    "\n"
   ]
  },
  {
   "cell_type": "markdown",
   "metadata": {},
   "source": [
    "Probability / Coin Flip\n",
    "\n",
    "Suppose the probability of heads is 0.5. What’s the probability of coming up tails? \n",
    "\n",
    "P(HEADS) = 0.5\n",
    "P(TAILS) = P(not(HEADS)) = 1 - P(HEADS) = 1 - 0.5 = 0.5"
   ]
  },
  {
   "cell_type": "markdown",
   "metadata": {},
   "source": [
    "Suppose the probability of heads is 0.25. What’s the probability of coming up tails? \n",
    "P(HEADS) = 0.25\n",
    "P(TAILS) = 1 - P(HEADS) = 1 - 0.25 = 0.75"
   ]
  },
  {
   "cell_type": "markdown",
   "metadata": {},
   "source": [
    "What is the probability that the coin comes up heads three times in a row assuming that the coin flips are independent and the ‘heads’ outcome has a probability of 0.5?\n",
    "P(H,H,H) = ? P(H) = 0.5 per flip and coin flips are independent\n",
    "\n",
    "P(H and H and H) = --> independence --> = P(H)P(H)P(H) = 0.5x0.5x0.5 = 0.125"
   ]
  },
  {
   "cell_type": "markdown",
   "metadata": {},
   "source": [
    "Coin Flip 4\n",
    "\n",
    "What is the probability that the coin lands on the same side four times in a row, assuming the probability of each side is 0.5 on each coin flip?\n",
    "\n",
    "xi = result of i-th coin flip\n",
    "xi = {H,T}\n",
    "P(X1 = X2 = X3 = X4) = same result given Pi(H) = 1/2 forall i\n",
    "\n",
    "P(X1=T and X2=T and X3=T and X4=T) = P(X1)P(X2)P(X3)P(X4) = (1/2)x(1/2)x(1/2)x(1/2) = 1/16\n",
    "P(X1=H and X2=H and X3=H and X4=H) = P(X1=T and X2=T and X3=T and X4=T) = 1/16\n",
    "\n",
    "so\n",
    "P(X1 = X2 = X3 = X4) = 2x(1/16) = 0.125\n"
   ]
  },
  {
   "cell_type": "markdown",
   "metadata": {},
   "source": [
    "What’s the probability that, in four coin flips, there are at least three heads? Assume that the probability of a ‘heads’ outcome is 0.5 and the coin flips are independent.\n",
    "\n",
    "P({X1, X2, X3, X4} >= 3 HEADS) = ?\n",
    "\n",
    "All possibilities are:\n",
    "1) HHHT\n",
    "2) THHH\n",
    "3) HHTH\n",
    "4) HTHH\n",
    "5) HHHH\n",
    "\n",
    "P(H,H,H,T >= 3H) = 1/16\n",
    "\n",
    "so P({X1, X2, X3, X4} >= 3 HEADS) = 5 x (1/16) = 0.3125"
   ]
  },
  {
   "cell_type": "markdown",
   "metadata": {},
   "source": [
    "### Complementary Probability\n",
    "P(A) = p --> P(not(A)) = 1 - p\n",
    "### Independence\n",
    "If X and Y are independent, then the joint probability P(X,Y) is the product of the marginals P(X) and P(Y):\n",
    "P(X,Y) = P(X)P(Y)"
   ]
  },
  {
   "cell_type": "markdown",
   "metadata": {},
   "source": [
    "### Dependence\n",
    "In the coins situation\n",
    "P(X1=H)=1/2\n",
    "\n",
    "Given these 2 conditions:\n",
    "1: H: P(X2=H|X1=H)=0.9\n",
    "2: T: P(X2=T|X1=T)=0.8\n",
    "\n",
    "what is the probability of the second coin flip coming up heads?\n",
    "P(X2=H)=?\n",
    "\n",
    "P(X2=H) = P(X2=H|X1=H)xP(X1=H) + P(X2=H|X1=T)xP(X1=T) = 0.9x0.5 + (1 - P(X2=H|X1=T))xP(X1=T)\n",
    "        = 0.9x0.5 + 0.2x0.5 = 0.45 + 0.1 = 0.55\n",
    "\n"
   ]
  },
  {
   "cell_type": "markdown",
   "metadata": {},
   "source": [
    "### Lessons Learned\n",
    "* Total Probability: P(Y) = sum_over(i) (P(Y | X = i) P(X = i))\n",
    "* Negation: P(not(X) | Y) = 1 - P(X | Y)"
   ]
  },
  {
   "cell_type": "markdown",
   "metadata": {},
   "source": [
    "#### Weather\n",
    "P(D1 = sunny) = 0.9\n",
    "P(D2 = sunny | D1 = sunny) = 0.8\n",
    "P(D2 = rainy | D1 = sunny) = 1 - P(D2 = sunny | D1 = sunny) = 1 - 0.8 = 0.2\n",
    "P(D2 = sunny | D1 = rainy) = 0.6\n",
    "P(D2 = rainy | D1 = rainy) = 1 - P(D2 = sunny | D1 = rainy) = 1 - 0.6 = 0.4\n",
    "\n",
    "P(D2 = sunny) = ?\n",
    "P(D2 = sunny) = P(D2 = sunny | D1 = sunny)xP(D1 = sunny) + P(D2 = sunny | D1 = rainy)xP(D1 = rainy) = \n",
    "              = 0.8 x 0.9 + 0.6 x 0.1 = 0.72 + 0.06 = 0.78\n",
    "              \n",
    "P(D3 = sunny) = ?\n",
    "P(D3 = sunny | D2 = sunny) = P(D2 = sunny | D1 = sunny) = 0.8\n",
    "P(D3 = sunny | D2 = rainy) = P(D2 = sunny | D1 = rainy) = 0.6\n",
    "\n",
    "P(D3 = sunny) = P(D3 = sunny | D2 = sunny) x P(D2 = sunny) + P(D3 = sunny | D2 = rainy) x P(D2 = rainy)\n",
    "              = 0.8 x 0.78 + 0.6 x 0.22 = 0.624 + 0.132 = 0.756"
   ]
  },
  {
   "cell_type": "markdown",
   "metadata": {},
   "source": [
    "#### Cancer\n",
    "P(C) = 0.01\n",
    "P(not(C)) = 1 - P(C) = 0.99\n",
    "\n",
    "given P(test + | C) = 0.9 then P(test - | C) = 0.1\n",
    "given P(test + | not(C)) = 0.2 then P(test - | not(C)) = 0.8\n",
    "\n",
    "P(test +, C) = P(test + | C)xP(C) = 0.9 x 0.01 = 0.009\n",
    "P(test -, C) = P(test - | C)xP(C) = 0.1 x 0.01 = 0.001\n",
    "P(test +, not(C)) = P(test + | not(C))xP(not(C)) = 0.2 x 0.99 = 0.198\n",
    "P(test -, not(C)) = P(test - | not(C))xP(not(C)) = 0.8 x 0.99 = 0.792\n",
    "\n",
    "P(C | test +) = ?\n",
    "\n",
    "P(test +, C) = P(C | test +) x P(test +)\n",
    "P(test +) = P(test + | C) + P(test + | not(C)) = 0.009 + 0.198 = 0.207\n",
    "P(C | test +) = P(test + , C) / (P(test +)) = 0.009 / 0.207 = 0.0434\n"
   ]
  },
  {
   "cell_type": "markdown",
   "metadata": {},
   "source": [
    "#### Bayes Rules\n",
    "\n",
    "* P(A|B) = (P(B|A)xP(A)) / P(B)   where P(B|A)xP(A) is the prior, P(B) is the marginal likelihood and P(A|B) is the posterior\n",
    "* AIMA chapter 13"
   ]
  },
  {
   "cell_type": "markdown",
   "metadata": {},
   "source": [
    "#### Challenge question\n",
    "![images/bayesnet1.png](attachment:images/bayesnet1.png)\n",
    "* P(G) = 0.9\n",
    "* P(O1 | G) = 0.5 and P(O1 | not(G)) = 0.05\n",
    "* P(O2 | G) = 0.75 and P(O2 | not(G)) = 0.25\n",
    "\n",
    "Calculate P(O2 | O1) = ?\n",
    "P(O2 | O1) = (sum over G (P(O2, O1, G))) / (sum over G(sum over O2 (P(O2, O1, G)))\n",
    "               = (P(O1, O2, G) + P(O1, O2, not(G))) / (P(O1, O2, G) + P(O1, O2, not(G)) + P(O1, not(O2), G) + P(O1, not(O2), not(G)))\n",
    "\n",
    "so \n",
    "* P(O1, O2, G) = P(O1 | G)P(O2 | G)P(G) = 0.5x0.75x0.9 = 0.337\n",
    "* P(O1, O2, not(G)) = P(O1 | not(G))P(O2 | not(G))P(not(G)) = 0.05x0.25x0.1 = 0.001\n",
    "* P(O1, not(O2), G) = P(O1 | G)P(not(O2) | G)P(G) = 0.5x0.25x0.9=0.1125\n",
    "* P(O1, not(O2), not(G)) = P(O1 | not(G))P(not(O2) | not(G))P(not(G)) = 0.05x0.75x0.1=0.003\n",
    "\n",
    "Hence\n",
    "* P(O2 | O1) = 0.744\n"
   ]
  },
  {
   "cell_type": "markdown",
   "metadata": {},
   "source": [
    "![immagine.png](attachment:immagine.png)"
   ]
  },
  {
   "cell_type": "markdown",
   "metadata": {},
   "source": [
    "![immagine.png](attachment:immagine.png)"
   ]
  },
  {
   "cell_type": "markdown",
   "metadata": {},
   "source": [
    "![immagine.png](attachment:immagine.png)"
   ]
  },
  {
   "cell_type": "markdown",
   "metadata": {},
   "source": [
    "* P'(C|++) = P(++|C)P(C) = P(+|C)xP(+|C)xP(C) = 0.9x0.9x0.01 = 0.008\n",
    "* P'(not(C)|++) = P(++|not(C)) = P(+|not(C))xP(+|not(C))xP(not(C)) = 0.2x0.2x0.99 = 0.0396\n",
    "* eta = 1/(P'(C|++) + P'(not(C)|++)) = 1/(0.008+0.0396) = 1/0.0477 = 20.964\n",
    "* P(C | ++) = eta x P'(C | ++) = 20.964 x 0.008 = 0.1698 (circa)"
   ]
  },
  {
   "cell_type": "markdown",
   "metadata": {},
   "source": [
    "P(C|+-)=?\n",
    "* P'(C|+-) = P(+-|C)P(C) = P(+|C)P(-|C)P(C) = 0.9 x 0.1 x 0.01 = 0.0009\n",
    "* P'(not(C)|+-) = P(+-|not(C)) = P(+|not(C)) P(-|not(C)) P(not(C)) = 0.2 x 0.8 x 0.99 = 0.1584\n",
    "* eta = 1 / (0.0009 + 0.1584) = 1 / 0.1593 = 6.277463905\n",
    "* P(C | +-) = eta x P'(C | +-) = 6.277463905 x 0.0009 = 0.0056"
   ]
  },
  {
   "cell_type": "markdown",
   "metadata": {},
   "source": [
    "![immagine.png](attachment:immagine.png)"
   ]
  },
  {
   "cell_type": "markdown",
   "metadata": {},
   "source": []
  }
 ],
 "metadata": {
  "kernelspec": {
   "display_name": "Python 3",
   "language": "python",
   "name": "python3"
  },
  "language_info": {
   "codemirror_mode": {
    "name": "ipython",
    "version": 3.0
   },
   "file_extension": ".py",
   "mimetype": "text/x-python",
   "name": "python",
   "nbconvert_exporter": "python",
   "pygments_lexer": "ipython3",
   "version": "3.6.1"
  }
 },
 "nbformat": 4,
 "nbformat_minor": 0
}